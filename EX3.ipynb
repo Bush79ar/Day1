{
 "cells": [
  {
   "cell_type": "code",
   "execution_count": 1,
   "id": "596ad723",
   "metadata": {},
   "outputs": [],
   "source": [
    "import numpy as np\n"
   ]
  },
  {
   "cell_type": "code",
   "execution_count": 4,
   "id": "b9c1a91a",
   "metadata": {},
   "outputs": [],
   "source": [
    "#q1\n",
    "x = np.arange(0,10)"
   ]
  },
  {
   "cell_type": "code",
   "execution_count": 5,
   "id": "be874e86",
   "metadata": {},
   "outputs": [
    {
     "data": {
      "text/plain": [
       "array([0, 1, 2, 3, 4, 5, 6, 7, 8, 9])"
      ]
     },
     "execution_count": 5,
     "metadata": {},
     "output_type": "execute_result"
    }
   ],
   "source": [
    "x"
   ]
  },
  {
   "cell_type": "code",
   "execution_count": 7,
   "id": "be78349a",
   "metadata": {},
   "outputs": [
    {
     "data": {
      "text/plain": [
       "3"
      ]
     },
     "execution_count": 7,
     "metadata": {},
     "output_type": "execute_result"
    }
   ],
   "source": [
    "x[3]"
   ]
  },
  {
   "cell_type": "code",
   "execution_count": 15,
   "id": "7dca4a58",
   "metadata": {},
   "outputs": [],
   "source": [
    "#q2\n",
    "array = np.random.random((3, 3))"
   ]
  },
  {
   "cell_type": "code",
   "execution_count": 16,
   "id": "bb32c177",
   "metadata": {},
   "outputs": [],
   "source": [
    "element = arr1[2, 1]"
   ]
  },
  {
   "cell_type": "code",
   "execution_count": 17,
   "id": "f1d4053e",
   "metadata": {},
   "outputs": [
    {
     "data": {
      "text/plain": [
       "8"
      ]
     },
     "execution_count": 17,
     "metadata": {},
     "output_type": "execute_result"
    }
   ],
   "source": [
    "element"
   ]
  },
  {
   "cell_type": "code",
   "execution_count": null,
   "id": "5126307d",
   "metadata": {},
   "outputs": [],
   "source": [
    "#q3\n"
   ]
  },
  {
   "cell_type": "code",
   "execution_count": 37,
   "id": "f36203fc",
   "metadata": {},
   "outputs": [],
   "source": [
    "array1= np.random.randint(5,size=(4,4))"
   ]
  },
  {
   "cell_type": "code",
   "execution_count": 38,
   "id": "97b337d9",
   "metadata": {},
   "outputs": [
    {
     "data": {
      "text/plain": [
       "array([[1, 2, 3, 3],\n",
       "       [1, 0, 4, 0],\n",
       "       [2, 3, 0, 4],\n",
       "       [1, 3, 4, 0]])"
      ]
     },
     "execution_count": 38,
     "metadata": {},
     "output_type": "execute_result"
    }
   ],
   "source": [
    "array1"
   ]
  },
  {
   "cell_type": "code",
   "execution_count": 39,
   "id": "aed509b0",
   "metadata": {},
   "outputs": [],
   "source": [
    "element1= array1[:2, 2:]"
   ]
  },
  {
   "cell_type": "code",
   "execution_count": 40,
   "id": "061d5358",
   "metadata": {},
   "outputs": [
    {
     "data": {
      "text/plain": [
       "array([[3, 3],\n",
       "       [4, 0]])"
      ]
     },
     "execution_count": 40,
     "metadata": {},
     "output_type": "execute_result"
    }
   ],
   "source": [
    "element1"
   ]
  },
  {
   "cell_type": "code",
   "execution_count": 41,
   "id": "977c1d65",
   "metadata": {},
   "outputs": [],
   "source": [
    "#q4\n",
    "x = np.arange(0,10)"
   ]
  },
  {
   "cell_type": "code",
   "execution_count": 42,
   "id": "fef7ffa3",
   "metadata": {},
   "outputs": [
    {
     "data": {
      "text/plain": [
       "array([0, 1, 2, 3, 4, 5, 6, 7, 8, 9])"
      ]
     },
     "execution_count": 42,
     "metadata": {},
     "output_type": "execute_result"
    }
   ],
   "source": [
    "x"
   ]
  },
  {
   "cell_type": "code",
   "execution_count": 45,
   "id": "2f7c475d",
   "metadata": {},
   "outputs": [],
   "source": [
    "\n",
    "x_copy = x[0:3].copy()\n"
   ]
  },
  {
   "cell_type": "code",
   "execution_count": 46,
   "id": "55b6d0b3",
   "metadata": {},
   "outputs": [
    {
     "data": {
      "text/plain": [
       "array([0, 1, 2])"
      ]
     },
     "execution_count": 46,
     "metadata": {},
     "output_type": "execute_result"
    }
   ],
   "source": [
    "x_copy"
   ]
  },
  {
   "cell_type": "code",
   "execution_count": 47,
   "id": "9ac355ed",
   "metadata": {},
   "outputs": [],
   "source": [
    "#q5\n",
    "array1= np.random.randint(5,size=(3,3))"
   ]
  },
  {
   "cell_type": "code",
   "execution_count": 48,
   "id": "cf7ad219",
   "metadata": {},
   "outputs": [
    {
     "data": {
      "text/plain": [
       "array([[4, 3, 3],\n",
       "       [0, 2, 3],\n",
       "       [4, 0, 1]])"
      ]
     },
     "execution_count": 48,
     "metadata": {},
     "output_type": "execute_result"
    }
   ],
   "source": [
    "array1"
   ]
  },
  {
   "cell_type": "code",
   "execution_count": 53,
   "id": "c8dc8048",
   "metadata": {},
   "outputs": [],
   "source": [
    "array1_copy = array1[:2,:2].copy()"
   ]
  },
  {
   "cell_type": "code",
   "execution_count": 54,
   "id": "a5a65f4a",
   "metadata": {},
   "outputs": [
    {
     "data": {
      "text/plain": [
       "array([[4, 3],\n",
       "       [0, 2]])"
      ]
     },
     "execution_count": 54,
     "metadata": {},
     "output_type": "execute_result"
    }
   ],
   "source": [
    "array1_copy"
   ]
  },
  {
   "cell_type": "code",
   "execution_count": 59,
   "id": "503bf2c8",
   "metadata": {},
   "outputs": [],
   "source": [
    "#q6\n",
    "y =np.arange(0, 9).reshape((3, 3))\n"
   ]
  },
  {
   "cell_type": "code",
   "execution_count": 60,
   "id": "f2bc69be",
   "metadata": {},
   "outputs": [
    {
     "data": {
      "text/plain": [
       "array([[0, 1, 2],\n",
       "       [3, 4, 5],\n",
       "       [6, 7, 8]])"
      ]
     },
     "execution_count": 60,
     "metadata": {},
     "output_type": "execute_result"
    }
   ],
   "source": [
    "y"
   ]
  },
  {
   "cell_type": "code",
   "execution_count": null,
   "id": "1086a221",
   "metadata": {},
   "outputs": [],
   "source": [
    "#q7"
   ]
  },
  {
   "cell_type": "code",
   "execution_count": 67,
   "id": "80591ca5",
   "metadata": {},
   "outputs": [],
   "source": [
    "array1= np.random.randint(5,size=(4,4))"
   ]
  },
  {
   "cell_type": "code",
   "execution_count": 68,
   "id": "dfd48840",
   "metadata": {},
   "outputs": [
    {
     "data": {
      "text/plain": [
       "array([[1, 0, 2, 4],\n",
       "       [0, 3, 2, 0],\n",
       "       [2, 3, 2, 3],\n",
       "       [0, 0, 2, 1]])"
      ]
     },
     "execution_count": 68,
     "metadata": {},
     "output_type": "execute_result"
    }
   ],
   "source": [
    "array1"
   ]
  },
  {
   "cell_type": "code",
   "execution_count": 72,
   "id": "06de155d",
   "metadata": {},
   "outputs": [],
   "source": [
    "array_1d = array1.reshape(-1)"
   ]
  },
  {
   "cell_type": "code",
   "execution_count": 73,
   "id": "cd154a4d",
   "metadata": {},
   "outputs": [
    {
     "data": {
      "text/plain": [
       "array([1, 0, 2, 4, 0, 3, 2, 0, 2, 3, 2, 3, 0, 0, 2, 1])"
      ]
     },
     "execution_count": 73,
     "metadata": {},
     "output_type": "execute_result"
    }
   ],
   "source": [
    "array_1d"
   ]
  },
  {
   "cell_type": "code",
   "execution_count": 77,
   "id": "f548e560",
   "metadata": {},
   "outputs": [],
   "source": [
    "arr=np.random.randn(5,5)\n"
   ]
  },
  {
   "cell_type": "code",
   "execution_count": 78,
   "id": "8768f152",
   "metadata": {},
   "outputs": [
    {
     "data": {
      "text/plain": [
       "array([[ 0.79559754, -0.3759316 , -0.46949013, -1.41321948, -1.1412656 ],\n",
       "       [-0.28884947,  0.22379529,  1.47649044, -0.25080338,  0.97372584],\n",
       "       [ 0.96344155, -0.67473463,  1.33809547, -0.9757422 ,  0.15429338],\n",
       "       [-0.64436136, -0.38123752, -0.43312295,  1.38137939,  0.16843753],\n",
       "       [-0.31764201,  0.29068544,  0.31274068, -0.39338269,  0.58096584]])"
      ]
     },
     "execution_count": 78,
     "metadata": {},
     "output_type": "execute_result"
    }
   ],
   "source": [
    "arr"
   ]
  },
  {
   "cell_type": "code",
   "execution_count": 80,
   "id": "f54bbd43",
   "metadata": {},
   "outputs": [],
   "source": [
    "arr=4*np.random.randn(5,5)+75\n"
   ]
  },
  {
   "cell_type": "code",
   "execution_count": 81,
   "id": "c7f49cd8",
   "metadata": {},
   "outputs": [
    {
     "data": {
      "text/plain": [
       "array([[78.55144154, 64.53120777, 70.51756039, 84.38939071, 79.2979849 ],\n",
       "       [72.83256919, 72.20941998, 76.9177102 , 78.11476154, 81.7519089 ],\n",
       "       [68.87013601, 77.60786966, 79.58473482, 80.34375075, 77.07005902],\n",
       "       [79.81946551, 70.57675774, 78.17788599, 71.33963742, 74.7355657 ],\n",
       "       [75.07712112, 70.75590574, 80.39035114, 73.07356366, 71.62206401]])"
      ]
     },
     "execution_count": 81,
     "metadata": {},
     "output_type": "execute_result"
    }
   ],
   "source": [
    "arr"
   ]
  },
  {
   "cell_type": "code",
   "execution_count": 82,
   "id": "9b6d7f71",
   "metadata": {},
   "outputs": [],
   "source": [
    "A=np.array([-2,5,4,-8,0])"
   ]
  },
  {
   "cell_type": "code",
   "execution_count": 83,
   "id": "689933bd",
   "metadata": {},
   "outputs": [
    {
     "data": {
      "text/plain": [
       "array([-2,  5,  4, -8,  0])"
      ]
     },
     "execution_count": 83,
     "metadata": {},
     "output_type": "execute_result"
    }
   ],
   "source": [
    "A"
   ]
  },
  {
   "cell_type": "code",
   "execution_count": 84,
   "id": "7dfe4d0b",
   "metadata": {},
   "outputs": [
    {
     "data": {
      "text/plain": [
       "array([-8, -2,  0,  4,  5])"
      ]
     },
     "execution_count": 84,
     "metadata": {},
     "output_type": "execute_result"
    }
   ],
   "source": [
    "np.sort(A) "
   ]
  },
  {
   "cell_type": "code",
   "execution_count": 86,
   "id": "92c91c70",
   "metadata": {},
   "outputs": [
    {
     "data": {
      "text/plain": [
       "array([ 5,  4,  0, -2, -8])"
      ]
     },
     "execution_count": 86,
     "metadata": {},
     "output_type": "execute_result"
    }
   ],
   "source": [
    "np.sort(A)[::-1]"
   ]
  },
  {
   "cell_type": "code",
   "execution_count": 87,
   "id": "c464a365",
   "metadata": {},
   "outputs": [],
   "source": [
    "countries = np.array(['France', 'Germany', 'USA','Russia','USA','Mexico','Germany'])"
   ]
  },
  {
   "cell_type": "code",
   "execution_count": 88,
   "id": "96ceac34",
   "metadata": {},
   "outputs": [
    {
     "data": {
      "text/plain": [
       "array(['France', 'Germany', 'Mexico', 'Russia', 'USA'], dtype='<U7')"
      ]
     },
     "execution_count": 88,
     "metadata": {},
     "output_type": "execute_result"
    }
   ],
   "source": [
    "np.unique(countries)"
   ]
  },
  {
   "cell_type": "code",
   "execution_count": 89,
   "id": "3fdef4d6",
   "metadata": {},
   "outputs": [
    {
     "data": {
      "text/plain": [
       "array([ True,  True, False])"
      ]
     },
     "execution_count": 89,
     "metadata": {},
     "output_type": "execute_result"
    }
   ],
   "source": [
    "np.in1d(['France','USA','Sweden'],countries)\n"
   ]
  },
  {
   "cell_type": "code",
   "execution_count": null,
   "id": "2981bd5c",
   "metadata": {},
   "outputs": [],
   "source": []
  },
  {
   "cell_type": "code",
   "execution_count": null,
   "id": "a550e735",
   "metadata": {},
   "outputs": [],
   "source": []
  },
  {
   "cell_type": "code",
   "execution_count": 8,
   "id": "c28f1e79",
   "metadata": {},
   "outputs": [
    {
     "data": {
      "text/plain": [
       "array([0, 1, 2, 3, 4])"
      ]
     },
     "execution_count": 8,
     "metadata": {},
     "output_type": "execute_result"
    }
   ],
   "source": [
    "#q8:\n",
    "arr_1=np.arange(0,5)\n",
    "arr_1\n"
   ]
  },
  {
   "cell_type": "code",
   "execution_count": 10,
   "id": "168c7ea4",
   "metadata": {},
   "outputs": [
    {
     "data": {
      "text/plain": [
       "array([0, 1, 2, 3, 4])"
      ]
     },
     "execution_count": 10,
     "metadata": {},
     "output_type": "execute_result"
    }
   ],
   "source": [
    "arr_2=np.arange(0,5)\n",
    "arr_2\n"
   ]
  },
  {
   "cell_type": "code",
   "execution_count": 17,
   "id": "3fefc7c3",
   "metadata": {},
   "outputs": [
    {
     "data": {
      "text/plain": [
       "array([0, 1, 2, 3, 4, 0, 1, 2, 3, 4])"
      ]
     },
     "execution_count": 17,
     "metadata": {},
     "output_type": "execute_result"
    }
   ],
   "source": [
    "l=np.concatenate((arr_1,arr_2)) \n",
    "l\n"
   ]
  },
  {
   "cell_type": "code",
   "execution_count": 25,
   "id": "9da4e4c1",
   "metadata": {},
   "outputs": [
    {
     "data": {
      "text/plain": [
       "array([[1, 2, 3],\n",
       "       [5, 6, 7]])"
      ]
     },
     "execution_count": 25,
     "metadata": {},
     "output_type": "execute_result"
    }
   ],
   "source": [
    "#q9\n",
    "arr_1=np.array([[1,2],[3,4]])\n",
    "arr_1\n",
    "arr_2=np.array([[1,2,3],[5,6,7]])\n",
    "arr_2\n"
   ]
  },
  {
   "cell_type": "code",
   "execution_count": 27,
   "id": "d82c380a",
   "metadata": {},
   "outputs": [
    {
     "data": {
      "text/plain": [
       "array([[1, 2, 1, 2, 3],\n",
       "       [3, 4, 5, 6, 7]])"
      ]
     },
     "execution_count": 27,
     "metadata": {},
     "output_type": "execute_result"
    }
   ],
   "source": [
    "np.hstack((arr_1,arr_2))"
   ]
  },
  {
   "cell_type": "code",
   "execution_count": 31,
   "id": "59f3032f",
   "metadata": {},
   "outputs": [
    {
     "data": {
      "text/plain": [
       "array([[1, 2],\n",
       "       [3, 4],\n",
       "       [1, 2],\n",
       "       [3, 4],\n",
       "       [4, 5]])"
      ]
     },
     "execution_count": 31,
     "metadata": {},
     "output_type": "execute_result"
    }
   ],
   "source": [
    "#q10\n",
    "arr_1=np.array([[1,2],[3,4]])\n",
    "arr_1\n",
    "arr_2=np.array([[1,2],[3,4],[4,5]])\n",
    "arr_2\n",
    "np.vstack((arr_1,arr_2))"
   ]
  },
  {
   "cell_type": "code",
   "execution_count": 34,
   "id": "b263f9de",
   "metadata": {},
   "outputs": [],
   "source": [
    "#q11\n",
    "arr_1=np.random.randint(20,size=(4,4))\n",
    "arr_1\n",
    "half1,half2=np.split(arr_1,2)\n"
   ]
  },
  {
   "cell_type": "code",
   "execution_count": 35,
   "id": "9a514a92",
   "metadata": {},
   "outputs": [
    {
     "data": {
      "text/plain": [
       "array([[ 9,  8, 11, 15],\n",
       "       [15, 10,  3, 12]])"
      ]
     },
     "execution_count": 35,
     "metadata": {},
     "output_type": "execute_result"
    }
   ],
   "source": [
    "half1"
   ]
  },
  {
   "cell_type": "code",
   "execution_count": 36,
   "id": "f42ff9ca",
   "metadata": {},
   "outputs": [
    {
     "data": {
      "text/plain": [
       "array([[13, 18,  0, 19],\n",
       "       [14,  2, 12,  8]])"
      ]
     },
     "execution_count": 36,
     "metadata": {},
     "output_type": "execute_result"
    }
   ],
   "source": [
    "half2"
   ]
  },
  {
   "cell_type": "code",
   "execution_count": 38,
   "id": "a11714bc",
   "metadata": {},
   "outputs": [],
   "source": [
    "#q12\n",
    "arr_1=np.random.randint(20,size=(4,4))\n",
    "arr_1\n",
    "half1,half2=np.split(arr_1,2,axis=1)"
   ]
  },
  {
   "cell_type": "code",
   "execution_count": 39,
   "id": "f0ce7aff",
   "metadata": {},
   "outputs": [
    {
     "data": {
      "text/plain": [
       "array([[15,  1],\n",
       "       [ 5,  7],\n",
       "       [ 7, 12],\n",
       "       [ 6,  5]])"
      ]
     },
     "execution_count": 39,
     "metadata": {},
     "output_type": "execute_result"
    }
   ],
   "source": [
    "half1"
   ]
  },
  {
   "cell_type": "code",
   "execution_count": 40,
   "id": "c457ecc9",
   "metadata": {},
   "outputs": [
    {
     "data": {
      "text/plain": [
       "array([[17, 11],\n",
       "       [ 4,  1],\n",
       "       [ 2,  7],\n",
       "       [ 8, 10]])"
      ]
     },
     "execution_count": 40,
     "metadata": {},
     "output_type": "execute_result"
    }
   ],
   "source": [
    "half2"
   ]
  },
  {
   "cell_type": "code",
   "execution_count": 44,
   "id": "cd9b7a4c",
   "metadata": {},
   "outputs": [],
   "source": [
    "#q13\n",
    "arr_1=np.random.randint(20,size=(4,4))\n",
    "arr_1\n",
    "subarrays=np.split(arr_1,2,axis=0)\n",
    "subarrays1,subarrays2=np.split(subarrays[0],2,axis=1)\n",
    "subarrays3,subarrays4=np.split(subarrays[1],2,axis=1)"
   ]
  },
  {
   "cell_type": "code",
   "execution_count": 45,
   "id": "ddd78a50",
   "metadata": {},
   "outputs": [
    {
     "data": {
      "text/plain": [
       "(array([[ 8,  2],\n",
       "        [18,  5]]),\n",
       " array([[10, 10],\n",
       "        [10, 14]]))"
      ]
     },
     "execution_count": 45,
     "metadata": {},
     "output_type": "execute_result"
    }
   ],
   "source": [
    "subarrays1,subarrays2"
   ]
  },
  {
   "cell_type": "code",
   "execution_count": 46,
   "id": "dfefdc7d",
   "metadata": {},
   "outputs": [
    {
     "data": {
      "text/plain": [
       "(array([[13, 15],\n",
       "        [ 7, 11]]),\n",
       " array([[6, 0],\n",
       "        [7, 8]]))"
      ]
     },
     "execution_count": 46,
     "metadata": {},
     "output_type": "execute_result"
    }
   ],
   "source": [
    "subarrays3,subarrays4"
   ]
  },
  {
   "cell_type": "code",
   "execution_count": 49,
   "id": "5f5b1696",
   "metadata": {},
   "outputs": [
    {
     "data": {
      "text/plain": [
       "array([0, 0, 2, 0, 4, 0, 6, 0, 8, 0])"
      ]
     },
     "execution_count": 49,
     "metadata": {},
     "output_type": "execute_result"
    }
   ],
   "source": [
    "#q14\n",
    "arr_1=np.arange(0,10)\n",
    "arr_1[arr_1 % 2 !=0] =0\n",
    "arr_1\n"
   ]
  },
  {
   "cell_type": "code",
   "execution_count": 58,
   "id": "fb890f11",
   "metadata": {},
   "outputs": [
    {
     "data": {
      "text/plain": [
       "array([[18, 19,  9],\n",
       "       [ 2, 18,  4],\n",
       "       [12, 10, 18]])"
      ]
     },
     "execution_count": 58,
     "metadata": {},
     "output_type": "execute_result"
    }
   ],
   "source": [
    "#q15\n",
    "arr_1=np.random.randint(20,size=(3,3))\n",
    "arr_1"
   ]
  },
  {
   "cell_type": "code",
   "execution_count": 61,
   "id": "cb8da33a",
   "metadata": {},
   "outputs": [
    {
     "data": {
      "text/plain": [
       "array([[ 0,  0,  0],\n",
       "       [ 2, 18,  4],\n",
       "       [12, 10, 18]])"
      ]
     },
     "execution_count": 61,
     "metadata": {},
     "output_type": "execute_result"
    }
   ],
   "source": [
    "arr_1[:1]=0\n",
    "arr_1\n"
   ]
  },
  {
   "cell_type": "code",
   "execution_count": 62,
   "id": "8b747cf9",
   "metadata": {},
   "outputs": [
    {
     "data": {
      "text/plain": [
       "array([[ 2,  4,  2],\n",
       "       [ 9,  4, 15],\n",
       "       [ 5, 19,  2]])"
      ]
     },
     "execution_count": 62,
     "metadata": {},
     "output_type": "execute_result"
    }
   ],
   "source": [
    "#q16\n",
    "arr_1=np.random.randint(20,size=(3,3))\n",
    "arr_1"
   ]
  },
  {
   "cell_type": "code",
   "execution_count": 65,
   "id": "e8fadb20",
   "metadata": {},
   "outputs": [
    {
     "data": {
      "text/plain": [
       "array([[ 2,  4,  0],\n",
       "       [ 9,  4,  0],\n",
       "       [ 5, 19,  0]])"
      ]
     },
     "execution_count": 65,
     "metadata": {},
     "output_type": "execute_result"
    }
   ],
   "source": [
    "arr_1[:,2:]=0\n",
    "arr_1"
   ]
  },
  {
   "cell_type": "code",
   "execution_count": 66,
   "id": "9bf46cb6",
   "metadata": {},
   "outputs": [
    {
     "data": {
      "text/plain": [
       "array([[ 0,  8, 11],\n",
       "       [ 9,  2, 13],\n",
       "       [ 6,  2, 15]])"
      ]
     },
     "execution_count": 66,
     "metadata": {},
     "output_type": "execute_result"
    }
   ],
   "source": [
    "#q17\n",
    "arr_1=np.random.randint(20,size=(3,3))\n",
    "arr_1"
   ]
  },
  {
   "cell_type": "code",
   "execution_count": 70,
   "id": "c3ba1a78",
   "metadata": {},
   "outputs": [
    {
     "data": {
      "text/plain": [
       "array([[ 0,  0,  0],\n",
       "       [ 9,  0,  0],\n",
       "       [ 6,  2, 15]])"
      ]
     },
     "execution_count": 70,
     "metadata": {},
     "output_type": "execute_result"
    }
   ],
   "source": [
    "arr_1[:2,1:]=0\n",
    "arr_1"
   ]
  },
  {
   "cell_type": "code",
   "execution_count": 72,
   "id": "7e5c9f38",
   "metadata": {},
   "outputs": [
    {
     "data": {
      "text/plain": [
       "array([0, 1, 2, 3, 4, 5, 6, 7, 8, 9])"
      ]
     },
     "execution_count": 72,
     "metadata": {},
     "output_type": "execute_result"
    }
   ],
   "source": [
    "#q18\n",
    "arr_1=np.arange(0,10)\n",
    "arr_1"
   ]
  },
  {
   "cell_type": "code",
   "execution_count": 74,
   "id": "d3ae400b",
   "metadata": {},
   "outputs": [
    {
     "data": {
      "text/plain": [
       "array([ 0,  2,  4,  6,  8, 10, 12, 14, 16, 18])"
      ]
     },
     "execution_count": 74,
     "metadata": {},
     "output_type": "execute_result"
    }
   ],
   "source": [
    "arr_copy=arr_1.copy()\n",
    "arr_copy*2\n"
   ]
  },
  {
   "cell_type": "code",
   "execution_count": 76,
   "id": "760208fd",
   "metadata": {},
   "outputs": [
    {
     "data": {
      "text/plain": [
       "array([[0.96379875, 0.67453056, 0.66981155],\n",
       "       [0.97957835, 0.47338837, 0.33966164],\n",
       "       [0.86365827, 0.22792625, 0.66018631]])"
      ]
     },
     "execution_count": 76,
     "metadata": {},
     "output_type": "execute_result"
    }
   ],
   "source": [
    "#q19\n",
    "arr_1=np.random.rand(3,3)\n",
    "arr_1"
   ]
  },
  {
   "cell_type": "code",
   "execution_count": 78,
   "id": "7d9bb711",
   "metadata": {},
   "outputs": [
    {
     "data": {
      "text/plain": [
       "array([[1.96379875, 1.67453056, 1.66981155],\n",
       "       [1.97957835, 1.47338837, 1.33966164],\n",
       "       [1.86365827, 1.22792625, 1.66018631]])"
      ]
     },
     "execution_count": 78,
     "metadata": {},
     "output_type": "execute_result"
    }
   ],
   "source": [
    "arr_copy=arr_1.copy()\n",
    "arr_copy+1"
   ]
  },
  {
   "cell_type": "code",
   "execution_count": 80,
   "id": "2de8fe12",
   "metadata": {},
   "outputs": [
    {
     "data": {
      "text/plain": [
       "array([[3, 4, 4],\n",
       "       [2, 2, 0],\n",
       "       [2, 0, 1]])"
      ]
     },
     "execution_count": 80,
     "metadata": {},
     "output_type": "execute_result"
    }
   ],
   "source": [
    "#q20\n",
    "arr_1=np.random.randint(5,size=(3,3))\n",
    "arr_1\n"
   ]
  },
  {
   "cell_type": "code",
   "execution_count": 82,
   "id": "4dd10b38",
   "metadata": {},
   "outputs": [
    {
     "data": {
      "text/plain": [
       "array([[3, 4],\n",
       "       [2, 2]])"
      ]
     },
     "execution_count": 82,
     "metadata": {},
     "output_type": "execute_result"
    }
   ],
   "source": [
    "arr1_copy=arr_1[0:2,0:2].copy()\n",
    "arr1_copy"
   ]
  },
  {
   "cell_type": "code",
   "execution_count": null,
   "id": "b52974d2",
   "metadata": {},
   "outputs": [],
   "source": []
  }
 ],
 "metadata": {
  "kernelspec": {
   "display_name": "Python 3 (ipykernel)",
   "language": "python",
   "name": "python3"
  },
  "language_info": {
   "codemirror_mode": {
    "name": "ipython",
    "version": 3
   },
   "file_extension": ".py",
   "mimetype": "text/x-python",
   "name": "python",
   "nbconvert_exporter": "python",
   "pygments_lexer": "ipython3",
   "version": "3.10.9"
  }
 },
 "nbformat": 4,
 "nbformat_minor": 5
}
