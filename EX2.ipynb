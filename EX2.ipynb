{
 "cells": [
  {
   "cell_type": "code",
   "execution_count": 2,
   "id": "22c367ea",
   "metadata": {},
   "outputs": [],
   "source": [
    " import numpy as np\n"
   ]
  },
  {
   "cell_type": "code",
   "execution_count": 2,
   "id": "75e961d1",
   "metadata": {},
   "outputs": [],
   "source": [
    "arr1=np.array([[1,2],[8,9]])"
   ]
  },
  {
   "cell_type": "code",
   "execution_count": 3,
   "id": "7b109b08",
   "metadata": {},
   "outputs": [
    {
     "data": {
      "text/plain": [
       "array([[1, 2],\n",
       "       [8, 9]])"
      ]
     },
     "execution_count": 3,
     "metadata": {},
     "output_type": "execute_result"
    }
   ],
   "source": [
    "arr1\n"
   ]
  },
  {
   "cell_type": "code",
   "execution_count": 4,
   "id": "743dd173",
   "metadata": {},
   "outputs": [
    {
     "data": {
      "text/plain": [
       "array([[ 2,  4],\n",
       "       [16, 18]])"
      ]
     },
     "execution_count": 4,
     "metadata": {},
     "output_type": "execute_result"
    }
   ],
   "source": [
    "arr1*2\n"
   ]
  },
  {
   "cell_type": "code",
   "execution_count": 5,
   "id": "a3eb790c",
   "metadata": {},
   "outputs": [],
   "source": [
    "arr1=np.array([[1,2,3],[8,9,4]])"
   ]
  },
  {
   "cell_type": "code",
   "execution_count": 6,
   "id": "0a0b58fb",
   "metadata": {},
   "outputs": [
    {
     "data": {
      "text/plain": [
       "array([[ 6,  7,  8],\n",
       "       [13, 14,  9]])"
      ]
     },
     "execution_count": 6,
     "metadata": {},
     "output_type": "execute_result"
    }
   ],
   "source": [
    "arr1+5"
   ]
  },
  {
   "cell_type": "code",
   "execution_count": 7,
   "id": "eef87a7d",
   "metadata": {},
   "outputs": [],
   "source": [
    "arr1=np.array([[1,2,3,6],[8,9,4,7]])"
   ]
  },
  {
   "cell_type": "code",
   "execution_count": 8,
   "id": "b384a1b1",
   "metadata": {},
   "outputs": [
    {
     "data": {
      "text/plain": [
       "array([[-9, -8, -7, -4],\n",
       "       [-2, -1, -6, -3]])"
      ]
     },
     "execution_count": 8,
     "metadata": {},
     "output_type": "execute_result"
    }
   ],
   "source": [
    "arr1-10"
   ]
  },
  {
   "cell_type": "code",
   "execution_count": 9,
   "id": "37f49c92",
   "metadata": {},
   "outputs": [],
   "source": [
    "arr1=np.array([[1,2,3,6,8],[8,9,4,7,2]])"
   ]
  },
  {
   "cell_type": "code",
   "execution_count": 10,
   "id": "27f6dbaa",
   "metadata": {},
   "outputs": [
    {
     "data": {
      "text/plain": [
       "array([[0.5, 1. , 1.5, 3. , 4. ],\n",
       "       [4. , 4.5, 2. , 3.5, 1. ]])"
      ]
     },
     "execution_count": 10,
     "metadata": {},
     "output_type": "execute_result"
    }
   ],
   "source": [
    "arr1/2"
   ]
  },
  {
   "cell_type": "code",
   "execution_count": 19,
   "id": "2f32edd0",
   "metadata": {},
   "outputs": [],
   "source": [
    "arr1=np.array([[1,2,3,6,8,4],[8,9,4,7,2,3]])"
   ]
  },
  {
   "cell_type": "code",
   "execution_count": 15,
   "id": "948488df",
   "metadata": {},
   "outputs": [],
   "source": [
    "data1= arr1**2"
   ]
  },
  {
   "cell_type": "code",
   "execution_count": 16,
   "id": "1e9757d3",
   "metadata": {},
   "outputs": [
    {
     "data": {
      "text/plain": [
       "array([[ 1,  4,  9, 36, 64, 16],\n",
       "       [64, 81, 16, 49,  4,  9]])"
      ]
     },
     "execution_count": 16,
     "metadata": {},
     "output_type": "execute_result"
    }
   ],
   "source": [
    "data1"
   ]
  },
  {
   "cell_type": "code",
   "execution_count": 20,
   "id": "2010600c",
   "metadata": {},
   "outputs": [
    {
     "data": {
      "text/plain": [
       "array([[1.        , 1.41421356, 1.73205081, 2.44948974, 2.82842712,\n",
       "        2.        ],\n",
       "       [2.82842712, 3.        , 2.        , 2.64575131, 1.41421356,\n",
       "        1.73205081]])"
      ]
     },
     "execution_count": 20,
     "metadata": {},
     "output_type": "execute_result"
    }
   ],
   "source": [
    "np.sqrt(arr1)"
   ]
  },
  {
   "cell_type": "code",
   "execution_count": 24,
   "id": "1bd065d5",
   "metadata": {},
   "outputs": [],
   "source": [
    "arr1=np.array([[1,2],[8,9]])\n"
   ]
  },
  {
   "cell_type": "code",
   "execution_count": 27,
   "id": "f34c5cea",
   "metadata": {},
   "outputs": [
    {
     "data": {
      "text/plain": [
       "array([[17, 20],\n",
       "       [80, 97]])"
      ]
     },
     "execution_count": 27,
     "metadata": {},
     "output_type": "execute_result"
    }
   ],
   "source": [
    "np.matmul(arr1,arr1)"
   ]
  },
  {
   "cell_type": "code",
   "execution_count": 34,
   "id": "57f30ef7",
   "metadata": {},
   "outputs": [],
   "source": [
    "arr3=np.array([[1,2,3],[8,9,4],[2,3,4]])"
   ]
  },
  {
   "cell_type": "code",
   "execution_count": 35,
   "id": "ae8e40cc",
   "metadata": {},
   "outputs": [
    {
     "data": {
      "text/plain": [
       "array([[ 23,  29,  23],\n",
       "       [ 88, 109,  76],\n",
       "       [ 34,  43,  34]])"
      ]
     },
     "execution_count": 35,
     "metadata": {},
     "output_type": "execute_result"
    }
   ],
   "source": [
    "np.dot(arr3,arr3)"
   ]
  },
  {
   "cell_type": "raw",
   "id": "db12a9fa",
   "metadata": {},
   "source": []
  },
  {
   "cell_type": "code",
   "execution_count": 48,
   "id": "26ae10c0",
   "metadata": {},
   "outputs": [],
   "source": [
    "arr3=np.array([[1,2,3],[8,9,4]])\n",
    "arr4=np.array([[1,2],[8,9],[2,3]])"
   ]
  },
  {
   "cell_type": "code",
   "execution_count": 49,
   "id": "008fef77",
   "metadata": {},
   "outputs": [
    {
     "data": {
      "text/plain": [
       "array([[ 23,  29],\n",
       "       [ 88, 109]])"
      ]
     },
     "execution_count": 49,
     "metadata": {},
     "output_type": "execute_result"
    }
   ],
   "source": [
    "np.matmul(arr3,arr4)"
   ]
  },
  {
   "cell_type": "code",
   "execution_count": 6,
   "id": "80589b4a",
   "metadata": {},
   "outputs": [
    {
     "data": {
      "text/plain": [
       "array([[1, 4],\n",
       "       [2, 5],\n",
       "       [3, 6]])"
      ]
     },
     "execution_count": 6,
     "metadata": {},
     "output_type": "execute_result"
    }
   ],
   "source": [
    "#q11\n",
    "arr1 = np.array([[1, 2, 3], [4, 5, 6]])\n",
    "arr1\n",
    "arr1_transpose = np.transpose(arr1)\n",
    "arr1_transpose"
   ]
  },
  {
   "cell_type": "code",
   "execution_count": 13,
   "id": "618e206b",
   "metadata": {},
   "outputs": [
    {
     "data": {
      "text/plain": [
       "array([[ 1,  5,  8],\n",
       "       [ 2,  6,  9],\n",
       "       [ 3,  7, 10],\n",
       "       [ 4,  8, 11]])"
      ]
     },
     "execution_count": 13,
     "metadata": {},
     "output_type": "execute_result"
    }
   ],
   "source": [
    "#q12\n",
    "arr1 = np.array([[1, 2, 3,4], [5, 6,7,8],[8,9,10,11]])\n",
    "arr1\n",
    "arr1_transpose = np.transpose(arr1)\n",
    "arr1_transpose"
   ]
  },
  {
   "cell_type": "code",
   "execution_count": 20,
   "id": "17590067",
   "metadata": {},
   "outputs": [
    {
     "data": {
      "text/plain": [
       "array([[ 1,  2,  3,  4, 15],\n",
       "       [ 5,  6,  7,  8, 13],\n",
       "       [ 8,  9, 10, 11, 14],\n",
       "       [12, 23, 45,  2, 17],\n",
       "       [23, 34,  1, 56, 20]])"
      ]
     },
     "execution_count": 20,
     "metadata": {},
     "output_type": "execute_result"
    }
   ],
   "source": [
    "#q13\n",
    "arr1 = np.array([[1, 2, 3,4,15], [5, 6,7,8,13],[8,9,10,11,14],[12,23,45,2,17],[23,34,1,56,20]])\n",
    "arr1\n"
   ]
  },
  {
   "cell_type": "code",
   "execution_count": 21,
   "id": "2031ccfe",
   "metadata": {},
   "outputs": [
    {
     "data": {
      "text/plain": [
       "array([[ 1,  5,  8, 12, 23],\n",
       "       [ 2,  6,  9, 23, 34],\n",
       "       [ 3,  7, 10, 45,  1],\n",
       "       [ 4,  8, 11,  2, 56],\n",
       "       [15, 13, 14, 17, 20]])"
      ]
     },
     "execution_count": 21,
     "metadata": {},
     "output_type": "execute_result"
    }
   ],
   "source": [
    "arr1_transpose = np.transpose(arr1)\n",
    "arr1_transpose"
   ]
  },
  {
   "cell_type": "code",
   "execution_count": 23,
   "id": "0df66a22",
   "metadata": {},
   "outputs": [
    {
     "data": {
      "text/plain": [
       "array([[1, 2],\n",
       "       [5, 6]])"
      ]
     },
     "execution_count": 23,
     "metadata": {},
     "output_type": "execute_result"
    }
   ],
   "source": [
    "#q14\n",
    "arr2=np.array([[1,2],[5,6]])\n",
    "arr2"
   ]
  },
  {
   "cell_type": "code",
   "execution_count": 24,
   "id": "cec04419",
   "metadata": {},
   "outputs": [
    {
     "data": {
      "text/plain": [
       "array([[1, 5],\n",
       "       [2, 6]])"
      ]
     },
     "execution_count": 24,
     "metadata": {},
     "output_type": "execute_result"
    }
   ],
   "source": [
    "arr2_transpose = np.transpose(arr2)\n",
    "arr2_transpose"
   ]
  },
  {
   "cell_type": "code",
   "execution_count": 27,
   "id": "41245e92",
   "metadata": {},
   "outputs": [
    {
     "data": {
      "text/plain": [
       "array([[11, 14],\n",
       "       [35, 46]])"
      ]
     },
     "execution_count": 27,
     "metadata": {},
     "output_type": "execute_result"
    }
   ],
   "source": [
    "arr2_m=np.dot(arr2,arr2)\n",
    "arr2_m"
   ]
  },
  {
   "cell_type": "code",
   "execution_count": 44,
   "id": "80237eed",
   "metadata": {},
   "outputs": [
    {
     "data": {
      "text/plain": [
       "array([[60, 62],\n",
       "       [71, 68]])"
      ]
     },
     "execution_count": 44,
     "metadata": {},
     "output_type": "execute_result"
    }
   ],
   "source": [
    "#q15\n",
    "A=np.array([[6,2],[5,4]])\n",
    "A\n",
    "B=np.array([[7,8],[9,7]])\n",
    "B\n",
    "np.dot(A,B)"
   ]
  },
  {
   "cell_type": "code",
   "execution_count": 47,
   "id": "b4f8ab51",
   "metadata": {},
   "outputs": [
    {
     "data": {
      "text/plain": [
       "array([[ 33,  30,  24],\n",
       "       [128, 115,  94],\n",
       "       [147, 132, 108]])"
      ]
     },
     "execution_count": 47,
     "metadata": {},
     "output_type": "execute_result"
    }
   ],
   "source": [
    "#q16\n",
    "C= np.array([[1,2,3],[6,7,8],[7,8,9]])\n",
    "C\n",
    "D= np.array([[9,8,7],[6,5,4],[4,4,3]])\n",
    "D\n",
    "np.dot(C,D)"
   ]
  },
  {
   "cell_type": "code",
   "execution_count": 51,
   "id": "e0818753",
   "metadata": {},
   "outputs": [
    {
     "data": {
      "text/plain": [
       "array([[ 23,  34],\n",
       "       [ 68, 104]])"
      ]
     },
     "execution_count": 51,
     "metadata": {},
     "output_type": "execute_result"
    }
   ],
   "source": [
    "#q17\n",
    "arr_1=np.array([[1,2,3],[6,7,8]])\n",
    "arr_1\n",
    "arr_2=np.array([[1,2],[2,4],[6,8]])\n",
    "arr_2   \n",
    "np.dot(arr_1,arr_2)"
   ]
  },
  {
   "cell_type": "code",
   "execution_count": 54,
   "id": "b5596f59",
   "metadata": {},
   "outputs": [
    {
     "data": {
      "text/plain": [
       "array([[13, 16, 19],\n",
       "       [26, 32, 38],\n",
       "       [54, 68, 82]])"
      ]
     },
     "execution_count": 54,
     "metadata": {},
     "output_type": "execute_result"
    }
   ],
   "source": [
    "#q18\n",
    "arr_2=np.array([[1,2],[2,4],[6,8]])\n",
    "arr_2 \n",
    "arr_1=np.array([[1,2,3],[6,7,8]])\n",
    "arr_1\n",
    "np.dot(arr_2,arr_1)"
   ]
  },
  {
   "cell_type": "code",
   "execution_count": 62,
   "id": "03e8b273",
   "metadata": {},
   "outputs": [
    {
     "data": {
      "text/plain": [
       "array([[ 1,  2,  3,  4],\n",
       "       [ 5,  6,  7,  8],\n",
       "       [ 9, 10, 11, 12],\n",
       "       [13, 14, 15, 16]])"
      ]
     },
     "execution_count": 62,
     "metadata": {},
     "output_type": "execute_result"
    }
   ],
   "source": [
    "#q19\n",
    "arr_4=np.array([[1,2,3,4],[5,6,7,8],[9,10,11,12],[13,14,15,16]])\n",
    "arr_4"
   ]
  },
  {
   "cell_type": "code",
   "execution_count": 63,
   "id": "15f29c0e",
   "metadata": {},
   "outputs": [
    {
     "data": {
      "text/plain": [
       "array([[ 1,  5,  9, 13],\n",
       "       [ 2,  6, 10, 14],\n",
       "       [ 3,  7, 11, 15],\n",
       "       [ 4,  8, 12, 16]])"
      ]
     },
     "execution_count": 63,
     "metadata": {},
     "output_type": "execute_result"
    }
   ],
   "source": [
    "arr4_transpose = np.transpose(arr_4)\n",
    "arr4_transpose"
   ]
  },
  {
   "cell_type": "code",
   "execution_count": 64,
   "id": "694d8c29",
   "metadata": {},
   "outputs": [
    {
     "data": {
      "text/plain": [
       "array([[ 90, 100, 110, 120],\n",
       "       [202, 228, 254, 280],\n",
       "       [314, 356, 398, 440],\n",
       "       [426, 484, 542, 600]])"
      ]
     },
     "execution_count": 64,
     "metadata": {},
     "output_type": "execute_result"
    }
   ],
   "source": [
    "np.dot(arr_4,arr_4)"
   ]
  },
  {
   "cell_type": "code",
   "execution_count": 66,
   "id": "977b47ff",
   "metadata": {},
   "outputs": [
    {
     "data": {
      "text/plain": [
       "array([[ 1,  2,  3,  4,  0],\n",
       "       [ 5,  6,  7,  8,  9],\n",
       "       [ 9, 10, 11, 12,  5],\n",
       "       [13, 14, 15, 16, 20],\n",
       "       [23, 21,  4, 54,  8]])"
      ]
     },
     "execution_count": 66,
     "metadata": {},
     "output_type": "execute_result"
    }
   ],
   "source": [
    "#q20\n",
    "arr_5=np.array([[1,2,3,4,0],[5,6,7,8,9],[9,10,11,12,5],[13,14,15,16,20],[23,21,4,54,8]])\n",
    "arr_5\n"
   ]
  },
  {
   "cell_type": "code",
   "execution_count": 71,
   "id": "d1e4b43e",
   "metadata": {},
   "outputs": [
    {
     "data": {
      "text/plain": [
       "array([[ 4.82931122e+15, -6.35435687e+15, -1.77921992e+15,\n",
       "         3.30426557e+15, -1.82912154e-02],\n",
       "       [-8.57743337e+15,  1.12860965e+16,  3.16010703e+15,\n",
       "        -5.86877020e+15,  4.74127557e-02],\n",
       "       [ 2.66693306e+15, -3.50912245e+15, -9.82554287e+14,\n",
       "         1.82474368e+15, -3.99518652e-02],\n",
       "       [ 1.08118908e+15, -1.42261721e+15, -3.98332819e+14,\n",
       "         7.39760950e+14,  1.08303249e-02],\n",
       "       [-2.75915420e-01,  4.15678185e-01, -3.61010830e-03,\n",
       "        -1.36152656e-01,  3.49679764e-18]])"
      ]
     },
     "execution_count": 71,
     "metadata": {},
     "output_type": "execute_result"
    }
   ],
   "source": [
    "inverse_5=np.linalg.inv(arr_5)\n",
    "inverse_5"
   ]
  },
  {
   "cell_type": "code",
   "execution_count": 74,
   "id": "1837cd3b",
   "metadata": {},
   "outputs": [
    {
     "data": {
      "text/plain": [
       "array([[ 7.66537950e+31, -1.00860257e+32, -2.82408718e+31,\n",
       "         5.24473334e+31, -2.82742118e+14],\n",
       "       [-1.36146293e+32,  1.79139859e+32,  5.01591604e+31,\n",
       "        -9.31527265e+31,  5.02183761e+14],\n",
       "       [ 4.23312002e+31, -5.56989477e+31, -1.55957053e+31,\n",
       "         2.89634528e+31, -1.56141169e+14],\n",
       "       [ 1.71612974e+31, -2.25806545e+31, -6.32258325e+30,\n",
       "         1.17419403e+31, -6.33004741e+13],\n",
       "       [-5.05476805e+15,  6.65101059e+15,  1.86228297e+15,\n",
       "        -3.45852551e+15,  2.34249297e-02]])"
      ]
     },
     "execution_count": 74,
     "metadata": {},
     "output_type": "execute_result"
    }
   ],
   "source": [
    "np.dot(inverse_5,inverse_5)"
   ]
  },
  {
   "cell_type": "code",
   "execution_count": null,
   "id": "fdd3cec2",
   "metadata": {},
   "outputs": [],
   "source": []
  }
 ],
 "metadata": {
  "kernelspec": {
   "display_name": "Python 3 (ipykernel)",
   "language": "python",
   "name": "python3"
  },
  "language_info": {
   "codemirror_mode": {
    "name": "ipython",
    "version": 3
   },
   "file_extension": ".py",
   "mimetype": "text/x-python",
   "name": "python",
   "nbconvert_exporter": "python",
   "pygments_lexer": "ipython3",
   "version": "3.10.9"
  }
 },
 "nbformat": 4,
 "nbformat_minor": 5
}
